{
 "cells": [
  {
   "cell_type": "markdown",
   "id": "bc91e225",
   "metadata": {},
   "source": [
    "# Ex 2 - Data Science Tools and Ecosystem"
   ]
  },
  {
   "cell_type": "markdown",
   "id": "cc5cbcda",
   "metadata": {},
   "source": [
    "# Ex 3 - Create a markdown cell for an introduction\n",
    "In this notebook, Data Science Tools and Ecosystem are summarized."
   ]
  },
  {
   "cell_type": "markdown",
   "id": "c3d64a75",
   "metadata": {},
   "source": [
    "# Ex 4 - Create a markdown cell to list data science languages\n",
    "Some of the popular languages that Data Scientists use are:\n",
    " 1. Python\n",
    " 2. R\n",
    " 3. SQL"
   ]
  },
  {
   "cell_type": "markdown",
   "id": "54c1e22b",
   "metadata": {},
   "source": [
    "# Ex 5 - Create a markdown cell to list data science libraries\n",
    "Some of the commonly used libraries used by Data Scientist include:\n",
    "1. NumPy\n",
    "2. Pandas\n",
    "3. Scikit-learn"
   ]
  },
  {
   "cell_type": "markdown",
   "id": "44200479",
   "metadata": {},
   "source": [
    "# Ex 6 - Create a markdown cell with a table of Data Science tools\n",
    "\n",
    "|Data Science Tools|\n",
    "|-----------|\n",
    "|Jupyter notebook|\n",
    "|R Studio|\n",
    "|Vs Code|\n",
    "\n"
   ]
  },
  {
   "cell_type": "markdown",
   "id": "e61e4fae",
   "metadata": {},
   "source": [
    "# Ex 7 - Create a markdown cell introducing arithmetic expression examples\n",
    "### Below are a few examples of evaluating arithmetic expressions in Python"
   ]
  },
  {
   "cell_type": "markdown",
   "id": "a0926355",
   "metadata": {},
   "source": [
    "# EX 8 - Create a markdown cell introducing arithmetic expression examples\n",
    "### Below are a few examples of evaluating arithmetic expression in Python\n",
    "\n",
    "$$ (3*4)+5 = 17 $$\n",
    "This is a simple arithmetic expression to multipy then add integers."
   ]
  },
  {
   "cell_type": "markdown",
   "id": "38674a8f",
   "metadata": {},
   "source": [
    "# Ex 9 - Create a code cell to convert minutes to hours\n",
    "This will convert 200 minutes to hours by dividing by 60\n",
    "\n",
    "To convert 200 minutes to hours:\n",
    "- Divide the total minutes by 60:\n",
    "  - \\(200 \\div 60 = 3\\) (hours)\n",
    "  - Remainder: 10 minutes\n",
    "- Therefore, 200 minutes is approximately **3 hours and 10 minutes**.\n",
    "\n"
   ]
  },
  {
   "cell_type": "markdown",
   "id": "3d2855ed",
   "metadata": {},
   "source": [
    "# Ex 10 - In this notebook, Data Science Tools and Ecosystem are summarized."
   ]
  },
  {
   "cell_type": "markdown",
   "id": "8751b07d",
   "metadata": {},
   "source": [
    "**Objectives:**\n",
    "* Deep Learnin\n",
    "* Machine learning models\n",
    "* R programming\n",
    "* Jupyter notebook\n",
    "* Overview of Git\n",
    "\n"
   ]
  },
  {
   "cell_type": "markdown",
   "id": "ae984d67",
   "metadata": {},
   "source": [
    "# Ex 11 - Create a markdown cell to indicate the Author's name\n",
    "## Author\n",
    "Teferi Hagos"
   ]
  },
  {
   "cell_type": "markdown",
   "id": "808ac83b",
   "metadata": {},
   "source": [
    "# Ex 12 - Share your notebook through Github\n",
    "Refer to Lab: Working with files in Jupyter Notebooks"
   ]
  },
  {
   "cell_type": "code",
   "execution_count": null,
   "id": "0ecb6914",
   "metadata": {},
   "outputs": [],
   "source": []
  }
 ],
 "metadata": {
  "kernelspec": {
   "display_name": "Python 3 (ipykernel)",
   "language": "python",
   "name": "python3"
  },
  "language_info": {
   "codemirror_mode": {
    "name": "ipython",
    "version": 3
   },
   "file_extension": ".py",
   "mimetype": "text/x-python",
   "name": "python",
   "nbconvert_exporter": "python",
   "pygments_lexer": "ipython3",
   "version": "3.11.5"
  }
 },
 "nbformat": 4,
 "nbformat_minor": 5
}
